{
  "nbformat": 4,
  "nbformat_minor": 0,
  "metadata": {
    "colab": {
      "provenance": []
    },
    "kernelspec": {
      "name": "python3",
      "display_name": "Python 3"
    },
    "language_info": {
      "name": "python"
    }
  },
  "cells": [
    {
      "cell_type": "code",
      "execution_count": 1,
      "metadata": {
        "id": "N07gsFuuDVkj"
      },
      "outputs": [],
      "source": [
        "# Importing library\n",
        "import numpy as np"
      ]
    },
    {
      "cell_type": "code",
      "source": [
        "# Function to input a matrix\n",
        "def input_matrix(rows, cols, name):\n",
        "    print(f\"\\nEnter elements for {name}:\")\n",
        "    matrix = []\n",
        "    for i in range(rows):\n",
        "        row = []\n",
        "        for j in range(cols):\n",
        "            while True:\n",
        "                try:\n",
        "                    val = float(input(f\"Enter {name}[{i+1}][{j+1}]: \"))\n",
        "                    row.append(val)\n",
        "                    break\n",
        "                except ValueError:\n",
        "                    print(\"Invalid input. Please enter a number.\")\n",
        "        matrix.append(row)\n",
        "    return np.array(matrix)"
      ],
      "metadata": {
        "id": "aPbYr5UYDZqL"
      },
      "execution_count": 2,
      "outputs": []
    },
    {
      "cell_type": "code",
      "source": [
        "# Function to display matrix\n",
        "def display_matrix(matrix, name):\n",
        "    print(f\"\\n{name}:\")\n",
        "    print(matrix)"
      ],
      "metadata": {
        "id": "0dMXcLHTDgl2"
      },
      "execution_count": 3,
      "outputs": []
    },
    {
      "cell_type": "code",
      "source": [
        "# Function to show menu and get user choice\n",
        "# =========================\n",
        "def get_menu_choice():\n",
        "    print(\"\\n====== Matrix Operations Menu ======\")\n",
        "    print(\"1. Matrix Addition\")\n",
        "    print(\"2. Matrix Subtraction\")\n",
        "    print(\"3. Matrix Multiplication\")\n",
        "    print(\"4. Matrix Transpose\")\n",
        "    print(\"5. Matrix Determinant\")\n",
        "    while True:\n",
        "        choice = input(\"Enter the number of the operation (1–5): \")\n",
        "        if choice in ['1', '2', '3', '4', '5']:\n",
        "            return choice\n",
        "        else:\n",
        "            print(\"Invalid choice. Please enter a number between 1 and 5.\")"
      ],
      "metadata": {
        "id": "kf88TUCaDiiX"
      },
      "execution_count": 6,
      "outputs": []
    },
    {
      "cell_type": "code",
      "source": [
        "# Function to get matrix size\n",
        "def get_matrix_size():\n",
        "    print(\"\\nSelect matrix size:\")\n",
        "    print(\"1. 2×2 Matrix\")\n",
        "    print(\"2. 3×3 Matrix\")\n",
        "    while True:\n",
        "        size_choice = input(\"Enter 1 for 2×2 or 2 for 3×3: \")\n",
        "        if size_choice == '1':\n",
        "            return 2, 2\n",
        "        elif size_choice == '2':\n",
        "            return 3, 3\n",
        "        else:\n",
        "            print(\"Invalid choice. Please enter 1 or 2.\")"
      ],
      "metadata": {
        "id": "BYfnzXTaDnvh"
      },
      "execution_count": 4,
      "outputs": []
    },
    {
      "cell_type": "code",
      "source": [
        "# Main program loop\n",
        "def main():\n",
        "    print(\"Welcome to the Matrix Operations Tool!\")\n",
        "\n",
        "    while True:\n",
        "        choice = get_menu_choice()\n",
        "        rows, cols = get_matrix_size()\n",
        "        A = input_matrix(rows, cols, \"Matrix A\")\n",
        "        B = input_matrix(rows, cols, \"Matrix B\")\n",
        "\n",
        "        display_matrix(A, \"Matrix A\")\n",
        "        display_matrix(B, \"Matrix B\")\n",
        "\n",
        "        print(\"\\n========= RESULT =========\")\n",
        "\n",
        "        if choice == '1':\n",
        "            result = np.add(A, B)\n",
        "            print(\"Matrix Addition (A + B):\\n\", result)\n",
        "\n",
        "        elif choice == '2':\n",
        "            result = np.subtract(A, B)\n",
        "            print(\"Matrix Subtraction (A - B):\\n\", result)\n",
        "\n",
        "        elif choice == '3':\n",
        "            result = np.dot(A, B)\n",
        "            print(\"Matrix Multiplication (A × B):\\n\", result)\n",
        "\n",
        "        elif choice == '4':\n",
        "            print(\"Transpose of Matrix A:\\n\", A.T)\n",
        "            print(\"Transpose of Matrix B:\\n\", B.T)\n",
        "\n",
        "        elif choice == '5':\n",
        "            if A.shape[0] == A.shape[1]:\n",
        "                det_A = np.linalg.det(A)\n",
        "                det_B = np.linalg.det(B)\n",
        "                print(\"Determinant of Matrix A:\", round(det_A, 2))\n",
        "                print(\"Determinant of Matrix B:\", round(det_B, 2))\n",
        "            else:\n",
        "                print(\"Determinant can only be calculated for square matrices.\")\n",
        "\n",
        "        again = input(\"\\nDo you want to perform another operation? (Y/N): \").strip().lower()\n",
        "        if again != 'y':\n",
        "            print(\"Matrix operations completed.\")\n",
        "            break"
      ],
      "metadata": {
        "id": "EE26GF3CDnxs"
      },
      "execution_count": 10,
      "outputs": []
    },
    {
      "cell_type": "code",
      "source": [
        "# Run the program\n",
        "if __name__ == \"__main__\":\n",
        "    main()"
      ],
      "metadata": {
        "colab": {
          "base_uri": "https://localhost:8080/"
        },
        "id": "dBHjHfSZDn0F",
        "outputId": "fd7fe298-1e3e-468f-d6e9-e24e6e6b6fa0"
      },
      "execution_count": 11,
      "outputs": [
        {
          "output_type": "stream",
          "name": "stdout",
          "text": [
            "Welcome to the Matrix Operations Tool!\n",
            "\n",
            "====== Matrix Operations Menu ======\n",
            "1. Matrix Addition\n",
            "2. Matrix Subtraction\n",
            "3. Matrix Multiplication\n",
            "4. Matrix Transpose\n",
            "5. Matrix Determinant\n",
            "Enter the number of the operation (1–5): 3\n",
            "\n",
            "Select matrix size:\n",
            "1. 2×2 Matrix\n",
            "2. 3×3 Matrix\n",
            "Enter 1 for 2×2 or 2 for 3×3: 2\n",
            "\n",
            "Enter elements for Matrix A:\n",
            "Enter Matrix A[1][1]: 5\n",
            "Enter Matrix A[1][2]: 10\n",
            "Enter Matrix A[1][3]: 15\n",
            "Enter Matrix A[2][1]: 20\n",
            "Enter Matrix A[2][2]: 25\n",
            "Enter Matrix A[2][3]: 30\n",
            "Enter Matrix A[3][1]: 35\n",
            "Enter Matrix A[3][2]: 40\n",
            "Enter Matrix A[3][3]: 45\n",
            "\n",
            "Enter elements for Matrix B:\n",
            "Enter Matrix B[1][1]: 45\n",
            "Enter Matrix B[1][2]: 40\n",
            "Enter Matrix B[1][3]: 35\n",
            "Enter Matrix B[2][1]: 30\n",
            "Enter Matrix B[2][2]: 25\n",
            "Enter Matrix B[2][3]: 20\n",
            "Enter Matrix B[3][1]: 15\n",
            "Enter Matrix B[3][2]: 10\n",
            "Enter Matrix B[3][3]: 5\n",
            "\n",
            "Matrix A:\n",
            "[[ 5. 10. 15.]\n",
            " [20. 25. 30.]\n",
            " [35. 40. 45.]]\n",
            "\n",
            "Matrix B:\n",
            "[[45. 40. 35.]\n",
            " [30. 25. 20.]\n",
            " [15. 10.  5.]]\n",
            "\n",
            "========= RESULT =========\n",
            "Matrix Multiplication (A × B):\n",
            " [[ 750.  600.  450.]\n",
            " [2100. 1725. 1350.]\n",
            " [3450. 2850. 2250.]]\n",
            "\n",
            "Do you want to perform another operation? (Y/N): n\n",
            "Matrix operations completed.\n"
          ]
        }
      ]
    },
    {
      "cell_type": "markdown",
      "source": [
        "## ✅ Conclusion\n",
        "\n",
        "In this project, I built an interactive **Matrix Operations Tool** using Python and NumPy as part of my internship work. The tool allows users to perform basic matrix operations like **addition**, **subtraction**, **multiplication**, **transpose**, and **determinant** in a simple and structured way.\n",
        "\n",
        "I designed it using a **menu-based interface** to make it more user-friendly, and added proper input checks and loops so users can run multiple operations without restarting the program each time. I also organized the code into **functions** to keep everything neat and manageable.\n",
        "\n",
        "Through this project, I got more hands-on experience with:\n",
        "- Writing clean, reusable Python functions\n",
        "- Managing user input and avoiding common errors\n",
        "- Using NumPy for performing matrix operations\n",
        "- Focusing on user flow and interaction while coding\n",
        "\n",
        "This task really helped me improve both my coding logic and confidence with Python — and it brought me one step closer to my goal of becoming a data scientist."
      ],
      "metadata": {
        "id": "wPf3VipFGTI_"
      }
    }
  ]
}